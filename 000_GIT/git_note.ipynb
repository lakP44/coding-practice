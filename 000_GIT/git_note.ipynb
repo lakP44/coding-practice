{
 "cells": [
  {
   "cell_type": "markdown",
   "metadata": {},
   "source": [
    "git add 파일명.확장명"
   ]
  },
  {
   "cell_type": "markdown",
   "metadata": {},
   "source": [
    "git commit -m '버전명'"
   ]
  },
  {
   "cell_type": "markdown",
   "metadata": {},
   "source": [
    "git l\n",
    "- 여기서 git config --global alias.l 'log all --oneline --all --graph' 해주면 됨"
   ]
  },
  {
   "cell_type": "markdown",
   "metadata": {},
   "source": [
    "이미 add된 모든 항목 commit\n",
    "--> git commit -am '버전명'"
   ]
  },
  {
   "cell_type": "markdown",
   "metadata": {},
   "source": [
    "git remote add origin url\n",
    "끊을때는 git remote remove origin"
   ]
  },
  {
   "cell_type": "markdown",
   "metadata": {},
   "source": [
    "헤드이동 git checkout 해쉬값 또는 브랜치 이름"
   ]
  },
  {
   "cell_type": "markdown",
   "metadata": {},
   "source": [
    "git reset --hard 해쉬값 (master이동)"
   ]
  },
  {
   "cell_type": "markdown",
   "metadata": {},
   "source": [
    "git merge branch 이름 (head가 있는 곳이 이름'을' 병합)"
   ]
  },
  {
   "cell_type": "markdown",
   "metadata": {},
   "source": [
    "가져오는법은 git clone Code주소."
   ]
  },
  {
   "cell_type": "markdown",
   "metadata": {},
   "source": [
    "문제 생기면 git reflog"
   ]
  },
  {
   "cell_type": "markdown",
   "metadata": {},
   "source": [
    "git push --set-up stream orgin exp"
   ]
  }
 ],
 "metadata": {
  "kernelspec": {
   "display_name": "Python 3.9.12 ('base')",
   "language": "python",
   "name": "python3"
  },
  "language_info": {
   "name": "python",
   "version": "3.9.12"
  },
  "orig_nbformat": 4,
  "vscode": {
   "interpreter": {
    "hash": "964f46f3973c3d99dc6929d5bd1748275317def86f082ea2874e0d5a9cf6d261"
   }
  }
 },
 "nbformat": 4,
 "nbformat_minor": 2
}
